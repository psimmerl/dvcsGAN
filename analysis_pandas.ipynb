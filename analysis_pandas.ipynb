{
 "cells": [
  {
   "cell_type": "code",
   "execution_count": 1,
   "metadata": {},
   "outputs": [
    {
     "name": "stdout",
     "output_type": "stream",
     "text": [
      "[PhysicalDevice(name='/physical_device:CPU:0', device_type='CPU')]\n",
      "CM_small_dLNdLLEdKR 69\n"
     ]
    },
    {
     "ename": "FileNotFoundError",
     "evalue": "[Errno 2] Unable to open file (unable to open file: name = 'models/CM_small_dLNdLLEdKR/epoch69/generator_weights.h5', errno = 2, error message = 'No such file or directory', flags = 0, o_flags = 0)",
     "output_type": "error",
     "traceback": [
      "\u001b[0;31m---------------------------------------------------------------------------\u001b[0m",
      "\u001b[0;31mFileNotFoundError\u001b[0m                         Traceback (most recent call last)",
      "\u001b[0;32m/tmp/ipykernel_4120/1504622986.py\u001b[0m in \u001b[0;36m<module>\u001b[0;34m\u001b[0m\n\u001b[1;32m     24\u001b[0m \u001b[0mmname\u001b[0m\u001b[0;34m,\u001b[0m \u001b[0mepoch\u001b[0m \u001b[0;34m=\u001b[0m \u001b[0;34m\"CM_small_dLNdLLEdKR\"\u001b[0m\u001b[0;34m,\u001b[0m \u001b[0;36m69\u001b[0m\u001b[0;34m\u001b[0m\u001b[0;34m\u001b[0m\u001b[0m\n\u001b[1;32m     25\u001b[0m \u001b[0mprint\u001b[0m\u001b[0;34m(\u001b[0m\u001b[0mmname\u001b[0m\u001b[0;34m,\u001b[0m \u001b[0mepoch\u001b[0m\u001b[0;34m)\u001b[0m\u001b[0;34m\u001b[0m\u001b[0;34m\u001b[0m\u001b[0m\n\u001b[0;32m---> 26\u001b[0;31m gan = load_model(f\"models/{mname}/model_params.json\", \n\u001b[0m\u001b[1;32m     27\u001b[0m                     \u001b[0;34mf\"models/{mname}/epoch{epoch}/generator_weights.h5\"\u001b[0m\u001b[0;34m,\u001b[0m\u001b[0;34m\u001b[0m\u001b[0;34m\u001b[0m\u001b[0m\n\u001b[1;32m     28\u001b[0m                     f\"models/{mname}/epoch{epoch}/discriminator_weights.h5\")\n",
      "\u001b[0;32m~/Documents/JLab/topegGAN/modules/param_wgan_gp.py\u001b[0m in \u001b[0;36mload_model\u001b[0;34m(param_dict, gen_weights, dis_weights)\u001b[0m\n\u001b[1;32m    322\u001b[0m             \u001b[0mparam_dict\u001b[0m \u001b[0;34m=\u001b[0m \u001b[0mbuild_param_dict\u001b[0m\u001b[0;34m(\u001b[0m\u001b[0mjson\u001b[0m\u001b[0;34m.\u001b[0m\u001b[0mload\u001b[0m\u001b[0;34m(\u001b[0m\u001b[0mff\u001b[0m\u001b[0;34m)\u001b[0m\u001b[0;34m)\u001b[0m\u001b[0;34m\u001b[0m\u001b[0;34m\u001b[0m\u001b[0m\n\u001b[1;32m    323\u001b[0m         \u001b[0mwgan\u001b[0m \u001b[0;34m=\u001b[0m \u001b[0mWGAN\u001b[0m\u001b[0;34m(\u001b[0m\u001b[0;34m**\u001b[0m\u001b[0mparam_dict\u001b[0m\u001b[0;34m)\u001b[0m\u001b[0;34m\u001b[0m\u001b[0;34m\u001b[0m\u001b[0m\n\u001b[0;32m--> 324\u001b[0;31m         \u001b[0mwgan\u001b[0m\u001b[0;34m.\u001b[0m\u001b[0mgen\u001b[0m\u001b[0;34m.\u001b[0m\u001b[0mload_weights\u001b[0m\u001b[0;34m(\u001b[0m\u001b[0mgen_weights\u001b[0m\u001b[0;34m)\u001b[0m\u001b[0;34m\u001b[0m\u001b[0;34m\u001b[0m\u001b[0m\n\u001b[0m\u001b[1;32m    325\u001b[0m         \u001b[0mwgan\u001b[0m\u001b[0;34m.\u001b[0m\u001b[0mdis\u001b[0m\u001b[0;34m.\u001b[0m\u001b[0mload_weights\u001b[0m\u001b[0;34m(\u001b[0m\u001b[0mdis_weights\u001b[0m\u001b[0;34m)\u001b[0m\u001b[0;34m\u001b[0m\u001b[0;34m\u001b[0m\u001b[0m\n\u001b[1;32m    326\u001b[0m         \u001b[0;32mreturn\u001b[0m \u001b[0mwgan\u001b[0m\u001b[0;34m\u001b[0m\u001b[0;34m\u001b[0m\u001b[0m\n",
      "\u001b[0;32m~/venvs/tf-env/lib/python3.8/site-packages/keras/utils/traceback_utils.py\u001b[0m in \u001b[0;36merror_handler\u001b[0;34m(*args, **kwargs)\u001b[0m\n\u001b[1;32m     65\u001b[0m     \u001b[0;32mexcept\u001b[0m \u001b[0mException\u001b[0m \u001b[0;32mas\u001b[0m \u001b[0me\u001b[0m\u001b[0;34m:\u001b[0m  \u001b[0;31m# pylint: disable=broad-except\u001b[0m\u001b[0;34m\u001b[0m\u001b[0;34m\u001b[0m\u001b[0m\n\u001b[1;32m     66\u001b[0m       \u001b[0mfiltered_tb\u001b[0m \u001b[0;34m=\u001b[0m \u001b[0m_process_traceback_frames\u001b[0m\u001b[0;34m(\u001b[0m\u001b[0me\u001b[0m\u001b[0;34m.\u001b[0m\u001b[0m__traceback__\u001b[0m\u001b[0;34m)\u001b[0m\u001b[0;34m\u001b[0m\u001b[0;34m\u001b[0m\u001b[0m\n\u001b[0;32m---> 67\u001b[0;31m       \u001b[0;32mraise\u001b[0m \u001b[0me\u001b[0m\u001b[0;34m.\u001b[0m\u001b[0mwith_traceback\u001b[0m\u001b[0;34m(\u001b[0m\u001b[0mfiltered_tb\u001b[0m\u001b[0;34m)\u001b[0m \u001b[0;32mfrom\u001b[0m \u001b[0;32mNone\u001b[0m\u001b[0;34m\u001b[0m\u001b[0;34m\u001b[0m\u001b[0m\n\u001b[0m\u001b[1;32m     68\u001b[0m     \u001b[0;32mfinally\u001b[0m\u001b[0;34m:\u001b[0m\u001b[0;34m\u001b[0m\u001b[0;34m\u001b[0m\u001b[0m\n\u001b[1;32m     69\u001b[0m       \u001b[0;32mdel\u001b[0m \u001b[0mfiltered_tb\u001b[0m\u001b[0;34m\u001b[0m\u001b[0;34m\u001b[0m\u001b[0m\n",
      "\u001b[0;32m~/venvs/tf-env/lib/python3.8/site-packages/h5py/_hl/files.py\u001b[0m in \u001b[0;36m__init__\u001b[0;34m(self, name, mode, driver, libver, userblock_size, swmr, rdcc_nslots, rdcc_nbytes, rdcc_w0, track_order, fs_strategy, fs_persist, fs_threshold, fs_page_size, page_buf_size, min_meta_keep, min_raw_keep, locking, **kwds)\u001b[0m\n\u001b[1;32m    505\u001b[0m                                  \u001b[0mfs_persist\u001b[0m\u001b[0;34m=\u001b[0m\u001b[0mfs_persist\u001b[0m\u001b[0;34m,\u001b[0m \u001b[0mfs_threshold\u001b[0m\u001b[0;34m=\u001b[0m\u001b[0mfs_threshold\u001b[0m\u001b[0;34m,\u001b[0m\u001b[0;34m\u001b[0m\u001b[0;34m\u001b[0m\u001b[0m\n\u001b[1;32m    506\u001b[0m                                  fs_page_size=fs_page_size)\n\u001b[0;32m--> 507\u001b[0;31m                 \u001b[0mfid\u001b[0m \u001b[0;34m=\u001b[0m \u001b[0mmake_fid\u001b[0m\u001b[0;34m(\u001b[0m\u001b[0mname\u001b[0m\u001b[0;34m,\u001b[0m \u001b[0mmode\u001b[0m\u001b[0;34m,\u001b[0m \u001b[0muserblock_size\u001b[0m\u001b[0;34m,\u001b[0m \u001b[0mfapl\u001b[0m\u001b[0;34m,\u001b[0m \u001b[0mfcpl\u001b[0m\u001b[0;34m,\u001b[0m \u001b[0mswmr\u001b[0m\u001b[0;34m=\u001b[0m\u001b[0mswmr\u001b[0m\u001b[0;34m)\u001b[0m\u001b[0;34m\u001b[0m\u001b[0;34m\u001b[0m\u001b[0m\n\u001b[0m\u001b[1;32m    508\u001b[0m \u001b[0;34m\u001b[0m\u001b[0m\n\u001b[1;32m    509\u001b[0m             \u001b[0;32mif\u001b[0m \u001b[0misinstance\u001b[0m\u001b[0;34m(\u001b[0m\u001b[0mlibver\u001b[0m\u001b[0;34m,\u001b[0m \u001b[0mtuple\u001b[0m\u001b[0;34m)\u001b[0m\u001b[0;34m:\u001b[0m\u001b[0;34m\u001b[0m\u001b[0;34m\u001b[0m\u001b[0m\n",
      "\u001b[0;32m~/venvs/tf-env/lib/python3.8/site-packages/h5py/_hl/files.py\u001b[0m in \u001b[0;36mmake_fid\u001b[0;34m(name, mode, userblock_size, fapl, fcpl, swmr)\u001b[0m\n\u001b[1;32m    218\u001b[0m         \u001b[0;32mif\u001b[0m \u001b[0mswmr\u001b[0m \u001b[0;32mand\u001b[0m \u001b[0mswmr_support\u001b[0m\u001b[0;34m:\u001b[0m\u001b[0;34m\u001b[0m\u001b[0;34m\u001b[0m\u001b[0m\n\u001b[1;32m    219\u001b[0m             \u001b[0mflags\u001b[0m \u001b[0;34m|=\u001b[0m \u001b[0mh5f\u001b[0m\u001b[0;34m.\u001b[0m\u001b[0mACC_SWMR_READ\u001b[0m\u001b[0;34m\u001b[0m\u001b[0;34m\u001b[0m\u001b[0m\n\u001b[0;32m--> 220\u001b[0;31m         \u001b[0mfid\u001b[0m \u001b[0;34m=\u001b[0m \u001b[0mh5f\u001b[0m\u001b[0;34m.\u001b[0m\u001b[0mopen\u001b[0m\u001b[0;34m(\u001b[0m\u001b[0mname\u001b[0m\u001b[0;34m,\u001b[0m \u001b[0mflags\u001b[0m\u001b[0;34m,\u001b[0m \u001b[0mfapl\u001b[0m\u001b[0;34m=\u001b[0m\u001b[0mfapl\u001b[0m\u001b[0;34m)\u001b[0m\u001b[0;34m\u001b[0m\u001b[0;34m\u001b[0m\u001b[0m\n\u001b[0m\u001b[1;32m    221\u001b[0m     \u001b[0;32melif\u001b[0m \u001b[0mmode\u001b[0m \u001b[0;34m==\u001b[0m \u001b[0;34m'r+'\u001b[0m\u001b[0;34m:\u001b[0m\u001b[0;34m\u001b[0m\u001b[0;34m\u001b[0m\u001b[0m\n\u001b[1;32m    222\u001b[0m         \u001b[0mfid\u001b[0m \u001b[0;34m=\u001b[0m \u001b[0mh5f\u001b[0m\u001b[0;34m.\u001b[0m\u001b[0mopen\u001b[0m\u001b[0;34m(\u001b[0m\u001b[0mname\u001b[0m\u001b[0;34m,\u001b[0m \u001b[0mh5f\u001b[0m\u001b[0;34m.\u001b[0m\u001b[0mACC_RDWR\u001b[0m\u001b[0;34m,\u001b[0m \u001b[0mfapl\u001b[0m\u001b[0;34m=\u001b[0m\u001b[0mfapl\u001b[0m\u001b[0;34m)\u001b[0m\u001b[0;34m\u001b[0m\u001b[0;34m\u001b[0m\u001b[0m\n",
      "\u001b[0;32mh5py/_objects.pyx\u001b[0m in \u001b[0;36mh5py._objects.with_phil.wrapper\u001b[0;34m()\u001b[0m\n",
      "\u001b[0;32mh5py/_objects.pyx\u001b[0m in \u001b[0;36mh5py._objects.with_phil.wrapper\u001b[0;34m()\u001b[0m\n",
      "\u001b[0;32mh5py/h5f.pyx\u001b[0m in \u001b[0;36mh5py.h5f.open\u001b[0;34m()\u001b[0m\n",
      "\u001b[0;31mFileNotFoundError\u001b[0m: [Errno 2] Unable to open file (unable to open file: name = 'models/CM_small_dLNdLLEdKR/epoch69/generator_weights.h5', errno = 2, error message = 'No such file or directory', flags = 0, o_flags = 0)"
     ]
    }
   ],
   "source": [
    "%reset -f\n",
    "import os, pandas as pd, numpy as np, matplotlib as mpl, matplotlib.pyplot as plt, tensorflow as tf\n",
    "from matplotlib.ticker import FormatStrFormatter\n",
    "mpl.rcParams['figure.dpi'] = 100\n",
    "\n",
    "os.environ['TF_CPP_MIN_LOG_LEVEL'] = '2'\n",
    "USE_GPU = False\n",
    "\n",
    "if not USE_GPU:\n",
    "    try:\n",
    "        # Disable all GPUSs\n",
    "        tf.config.set_visible_devices([], 'GPU')\n",
    "        visible_devices = tf.config.get_visible_devices()\n",
    "        for device in visible_devices:\n",
    "            assert device.device_type != 'GPU'\n",
    "    except:\n",
    "        print(\"failed to disable gpu\")\n",
    "        # Invalid device or cannot modify virtual devices once initialized.\n",
    "        pass\n",
    "print(tf.config.get_visible_devices())\n",
    "tf.random.set_seed(42)\n",
    "\n",
    "from modules.param_wgan_gp import load_model\n",
    "mname, epoch = \"CM_small_dLNkiHU\", 69\n",
    "print(mname, epoch)\n",
    "gan = load_model(f\"models/{mname}/model_params.json\", \n",
    "                    f\"models/{mname}/epoch{epoch}/generator_weights.h5\", \n",
    "                    f\"models/{mname}/epoch{epoch}/discriminator_weights.h5\")\n",
    "col_ns = list(gan.pd['feat_names'])\n",
    "print(col_ns)\n",
    "\n",
    "mceg_df = pd.DataFrame(dict(zip(list(gan.pd['feat_names']), np.load(\"data/raw/X.npy\").T)))#[:10000000]\n",
    "mceg_df.phih = mceg_df.phih - 360*(mceg_df.phih>180)"
   ]
  },
  {
   "cell_type": "code",
   "execution_count": null,
   "metadata": {},
   "outputs": [],
   "source": [
    "# TOPEG interactive: real 362m6.368s, user 361m51.997s, sys 0m3.475s\n",
    "# TOPEG batch nodes: 36080.01user 74.13system 10:02:37elapsed 99%CPU (0avgtext+0avgdata 398000maxresident)k 3120inputs+15528outputs (3major+567529minor)pagefaults 0swaps\n",
    "\n",
    "# CM_small_dLNdKR CPU: 278 ms ± 3.61 ms\n",
    "# %timeit sclr.inverse_transform(wgan.gen(tf.random.normal(shape=(100000, param_dict['latent_dim'])), training=False))\n",
    "# %timeit gan.generate(n_samples=len(mceg_df), batch_size=1000000, verbose=False, pandas_df=False, gpu=USE_GPU)\n",
    "gan_df = gan.generate(n_samples=len(mceg_df), batch_size=1000000, verbose=False, pandas_df=True, gpu=USE_GPU)"
   ]
  },
  {
   "cell_type": "code",
   "execution_count": null,
   "metadata": {},
   "outputs": [],
   "source": [
    "def sideBySide2D(x, y, xyr, bins=200, xl=None, yl=None, title=None, chi2=False, scilabs=False):\n",
    "    f, axs = plt.subplots(1,2, figsize=(20,10))\n",
    "    \n",
    "    hhm, xe, ye = np.histogram2d(mceg_df[x], mceg_df[y], bins=bins, range=xyr)\n",
    "    hhg, xe, ye = np.histogram2d( gan_df[x],  gan_df[y], bins=bins, range=xyr)\n",
    "    vmin, vmax = np.min([hhm, hhg]), np.max([hhm, hhg])\n",
    "    norm = mpl.colors.LogNorm(vmin=1, vmax=vmax)\n",
    "\n",
    "    axs[0].hist2d(mceg_df[x], mceg_df[y], bins=[xe,ye], range=xyr, cmap='cividis', norm=norm)\n",
    "    axs[1].hist2d( gan_df[x],  gan_df[y], bins=[xe,ye], range=xyr, cmap='cividis', norm=norm)\n",
    "\n",
    "    for i, ax in enumerate(axs):\n",
    "        ax.set_title(f\"{'MCEG' if i else 'GAN'}{' - '+title if title else ''}\", fontsize=26)\n",
    "        ax.set_xlabel(xl if xl else x, fontsize=22)\n",
    "        if scilabs:\n",
    "            ax.ticklabel_format(axis=scilabs,style='sci', scilimits=(0,0), useMathText=True)\n",
    "        ax.tick_params(axis='both', which='major', labelsize=18)\n",
    "        ax.grid()\n",
    "        if not i:\n",
    "            ax.set_ylabel(yl if yl else y, fontsize=22)\n",
    "    \n",
    "    return f, axs\n",
    "\n",
    "def contourOn2D(x, y, xyr, bins=200, levels=15, xl=None, yl=None, title=None, chi2=False, scilabs=False):\n",
    "    f, ax = plt.subplots(1,1, figsize=(10,10))\n",
    "\n",
    "    hhm, xe, ye = np.histogram2d(mceg_df[x], mceg_df[y], bins=bins, range=xyr)\n",
    "    hhg, xe, ye = np.histogram2d( gan_df[x],  gan_df[y], bins=bins, range=xyr)\n",
    "    vmin, vmax = np.min([hhm, hhg]), np.max([hhm, hhg])\n",
    "    norm = mpl.colors.LogNorm(vmin=1, vmax=vmax)\n",
    "    levels = np.logspace(0, np.log10(vmax), levels+1)\n",
    "\n",
    "    extent = [xe.min(), xe.max(), ye.min(), ye.max()]\n",
    "    csm = ax.contour( hhm.T, extent=extent, linewidths=2, colors='k', levels=levels[2:])\n",
    "    csg = ax.contourf(hhg.T, extent=extent, cmap='jet', norm=norm, levels=levels)\n",
    "\n",
    "    chi2 = np.mean((hhm-hhg)**2/np.fmax(1,hhm))\n",
    "\n",
    "    ax.set_title(r'GAN with MCEG Contours, $\\chi^2$ = '+f'{chi2:.2f}', fontsize=18)\n",
    "    ax.set_xlabel(xl, fontsize=16)\n",
    "    ax.set_ylabel(yl, fontsize=16)\n",
    "    if scilabs:\n",
    "        ax.ticklabel_format(axis=scilabs,style='sci', scilimits=(0,0), useMathText=True)\n",
    "    ax.tick_params(axis='both', which='major', labelsize=14)\n",
    "    ax.grid()\n",
    "\n",
    "    return f, ax\n"
   ]
  },
  {
   "cell_type": "code",
   "execution_count": null,
   "metadata": {},
   "outputs": [],
   "source": [
    "bins=1000\n",
    "xlabs = [r'$Q^2$ [GeV$^2$]', r'$x_B$', r'$y$', r'$-t$ [GeV$^2$]', r'$\\varphi_{HADRON}$']\n",
    "for log in [False, True]:\n",
    "    f, axs = plt.subplots(2,3, figsize=(20,10))\n",
    "    for cn, ax, xl in zip(col_ns, axs.flatten()[:-1], xlabs):\n",
    "        bc = np.linspace(np.min(np.r_[mceg_df[cn], gan_df[cn]]), np.max(np.r_[mceg_df[cn],gan_df[cn]]), bins+1)\n",
    "        hhm, _, _ = ax.hist(mceg_df[cn], bins=bins, histtype='step', linewidth=2)\n",
    "        hhg, _, _ = ax.hist(gan_df[cn], bins=bins, histtype='step', linewidth=2)\n",
    "\n",
    "        chi2 = np.mean((hhm-hhg)**2/np.fmax(1,hhm))\n",
    "        ax.text(0.55, 0.875, r\"$\\chi^2 = $\"+f\"{chi2:.2f}\", transform=ax.transAxes, fontsize=20)\n",
    "\n",
    "        ax.grid(True, which='both')\n",
    "        ax.set_title('')\n",
    "        ax.set_xlabel(xl, fontsize=18); #ax.set_ylabel('count')\n",
    "        ax.ticklabel_format(axis='y',style='sci', scilimits=(0,0), useMathText=True)\n",
    "        ax.tick_params(axis='both', which='major', labelsize=14)\n",
    "        # if 'x' in xl or 'Q' in xl or 't' in xl:\n",
    "        if log:\n",
    "            # ax.set_xscale('symlog')\n",
    "            ax.set_yscale('log')\n",
    "\n",
    "    axs[-1,-1].set_axis_off()\n",
    "    axs[-1,-1].text(0.5, 0.6, \"MCEG\", transform=axs[-1,-1].transAxes, fontsize=75, color='C0', ha='center')\n",
    "    axs[-1,-1].text(0.5, 0.25, \"GAN\", transform=axs[-1,-1].transAxes, fontsize=75, color='C1', ha='center')"
   ]
  },
  {
   "cell_type": "code",
   "execution_count": null,
   "metadata": {},
   "outputs": [],
   "source": [
    "for xyr in [[[0.0007, 0.025],[3.5, 60]], [[0.0007, 0.005],[3.5, 20]]]:#, [[0.0007, 0.002],[3.5, 8]]]:\n",
    "    f, axs = sideBySide2D(\"Xbj\", \"Q2\", xyr, bins=200, xl=r\"$x_B$\", yl=r\"$Q^2$ [GeV$^2$]\", title=None, chi2=False, scilabs='x')\n",
    "    for ax in axs:\n",
    "        ax.plot([.1, 0.000805, 0.002015, 0.00293, 0.004522, 0.006, 0.00775, 0.01, 0.0121, 0.015, 0.018, 0.025], [4, 4, 10, 14, 20, 25, 30, 35.5, 40, 45.25, 50, 58.25], 'red', linewidth=3)"
   ]
  },
  {
   "cell_type": "code",
   "execution_count": null,
   "metadata": {},
   "outputs": [],
   "source": [
    "for xyr in [[[3.5, 60],[-0.01, 1.01]], [[3.75, 20],[-0.01, 1.01]]]:#, [[0.0007, 0.002],[3.5, 8]]]:\n",
    "    f, axs = sideBySide2D(\"Q2\", \"t\", xyr, bins=200, xl=r\"$Q^2$ [GeV$^2$]\", yl=r\"$-t$ [GeV$^2$]\", title=None, chi2=False, scilabs=None)"
   ]
  },
  {
   "cell_type": "code",
   "execution_count": null,
   "metadata": {},
   "outputs": [],
   "source": [
    "xyranges = [[[0.0008, 0.025],[4, 60]], [[0.0008, 0.005],[4, 20]], [[4, 20],[0, 1]], [[4, 25], [0.05, 0.9]]]\n",
    "xxs = [\"Xbj\", \"Xbj\", \"Q2\", \"Q2\"]\n",
    "yys = [\"Q2\", \"Q2\", \"t\", \"y\"]\n",
    "xls = [r\"$x_B$\", r\"$x_B$\", r\"$Q^2$ [GeV$^2$]\", r\"$Q^2$ [GeV$^2$]\"]#r\"$\\varphi_{HADRON} [deg]$\"]\n",
    "yls = [r\"$Q^2$ [GeV$^2$]\", r\"$Q^2$ [GeV$^2$]\", r\"$-t$ [GeV$^2$]\",  r\"$y$\"]#r\"$-t$ [GeV^$2$]\"]\n",
    "for xx, yy, xl, yl, xyr in zip(xxs, yys, xls, yls, xyranges):\n",
    "    contourOn2D(xx, yy, xyr, bins=100, levels=15, xl=xl, yl=yl, title=None, chi2=True, scilabs='x' if 'Xbj' in xx else None)"
   ]
  },
  {
   "cell_type": "code",
   "execution_count": null,
   "metadata": {},
   "outputs": [],
   "source": []
  }
 ],
 "metadata": {
  "interpreter": {
   "hash": "7e127b08dd613289e7efd080eaea54945261bfa1fd37e5f4a50528a9fed6434d"
  },
  "kernelspec": {
   "display_name": "Python 3.8.10 64-bit ('tf-env': venv)",
   "language": "python",
   "name": "python3"
  },
  "language_info": {
   "codemirror_mode": {
    "name": "ipython",
    "version": 3
   },
   "file_extension": ".py",
   "mimetype": "text/x-python",
   "name": "python",
   "nbconvert_exporter": "python",
   "pygments_lexer": "ipython3",
   "version": "3.8.10"
  },
  "orig_nbformat": 4
 },
 "nbformat": 4,
 "nbformat_minor": 2
}
