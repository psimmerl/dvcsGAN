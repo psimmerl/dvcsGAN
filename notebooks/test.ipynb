{
 "cells": [
  {
   "cell_type": "code",
   "execution_count": 6,
   "source": [
    "import ROOT\n",
    "import numpy as np\n",
    "from sklearn.preprocessing import MinMaxScaler\n",
    "\n",
    "\n",
    "def make_scaled(df, train_size=0.8):\n",
    "    sclr = MinMaxScaler(feature_range=(-1,1))\n",
    "\n",
    "\n",
    "def make_raw(df, train_size=0.8):\n",
    "    pass\n",
    "\n",
    "rdf = ROOT.RDataFrame(\"TOPEG\", \"/home/psimmerl/Documents/JLab/eic/CORE_5x275-M4-Nh.root\")\n",
    "\n",
    "rdf.Display().Print()"
   ],
   "outputs": [
    {
     "output_type": "stream",
     "name": "stdout",
     "text": [
      "ievent | ElBeam   | PIDlBeam | EhBeam   | PIDhBeam   | Q2       | W        | Gamnu    | Xbj          | \n",
      "1      | 5.00000f | 11       | 275.002f | 1000020040 | 6.15730f | 69.3869f | 2568.38f | 0.00127661f  | \n",
      "2      | 5.00000f | 11       | 275.002f | 1000020040 | 4.90140f | 69.8036f | 2598.62f | 0.00100440f  | \n",
      "3      | 5.00000f | 11       | 275.002f | 1000020040 | 6.44304f | 66.0045f | 2324.50f | 0.00147601f  | \n",
      "4      | 5.00000f | 11       | 275.002f | 1000020040 | 4.81629f | 70.2602f | 2632.65f | 0.000974197f | \n",
      "5      | 5.00000f | 11       | 275.002f | 1000020040 | 6.26577f | 70.2119f | 2629.81f | 0.00126876f  | \n"
     ]
    },
    {
     "output_type": "stream",
     "name": "stderr",
     "text": [
      "Info in <Print>: Only showing 9 columns out of 18\n",
      "\n"
     ]
    }
   ],
   "metadata": {}
  },
  {
   "cell_type": "code",
   "execution_count": 7,
   "source": [
    "dd = rdf.AsNumpy()\n",
    "print(dd.keys())\n",
    "features = ['Q2', 'W', 'Gamnu', 'Xbj', 'y', 't', 'phih', 'part_id', 'part_px', 'part_py', 'part_pz', 'part_e']\n",
    "X = np.array(dd.pop(features[0]), dtype=np.float32)\n",
    "for feature in features[1:]:\n",
    "    x = dd.pop(feature)\n",
    "    if \"RVec\" in str(type(x[0])):\n",
    "        xx = np.zeros((X.shape[0], dd['Nb_part'][0]), dtype=np.float32)\n",
    "        for i in range(len(x)):\n",
    "            xx[i,:] = [i for i in x[i]]\n",
    "            # print(xx[i])\n",
    "            # break\n",
    "        x = xx\n",
    "    X = np.c_[X, x]\n"
   ],
   "outputs": [
    {
     "output_type": "stream",
     "name": "stdout",
     "text": [
      "dict_keys(['ievent', 'ElBeam', 'PIDlBeam', 'EhBeam', 'PIDhBeam', 'Q2', 'W', 'Gamnu', 'Xbj', 'y', 't', 'phih', 'Nb_part', 'part_id', 'part_px', 'part_py', 'part_pz', 'part_e'])\n"
     ]
    },
    {
     "output_type": "error",
     "ename": "KeyError",
     "evalue": "'part_idpart_px'",
     "traceback": [
      "\u001b[0;31m---------------------------------------------------------------------------\u001b[0m",
      "\u001b[0;31mKeyError\u001b[0m                                  Traceback (most recent call last)",
      "\u001b[0;32m/tmp/ipykernel_73341/507559180.py\u001b[0m in \u001b[0;36m<module>\u001b[0;34m\u001b[0m\n\u001b[1;32m      4\u001b[0m \u001b[0mX\u001b[0m \u001b[0;34m=\u001b[0m \u001b[0mnp\u001b[0m\u001b[0;34m.\u001b[0m\u001b[0marray\u001b[0m\u001b[0;34m(\u001b[0m\u001b[0mdd\u001b[0m\u001b[0;34m.\u001b[0m\u001b[0mpop\u001b[0m\u001b[0;34m(\u001b[0m\u001b[0mfeatures\u001b[0m\u001b[0;34m[\u001b[0m\u001b[0;36m0\u001b[0m\u001b[0;34m]\u001b[0m\u001b[0;34m)\u001b[0m\u001b[0;34m,\u001b[0m \u001b[0mdtype\u001b[0m\u001b[0;34m=\u001b[0m\u001b[0mnp\u001b[0m\u001b[0;34m.\u001b[0m\u001b[0mfloat32\u001b[0m\u001b[0;34m)\u001b[0m\u001b[0;34m\u001b[0m\u001b[0;34m\u001b[0m\u001b[0m\n\u001b[1;32m      5\u001b[0m \u001b[0;32mfor\u001b[0m \u001b[0mfeature\u001b[0m \u001b[0;32min\u001b[0m \u001b[0mfeatures\u001b[0m\u001b[0;34m[\u001b[0m\u001b[0;36m1\u001b[0m\u001b[0;34m:\u001b[0m\u001b[0;34m]\u001b[0m\u001b[0;34m:\u001b[0m\u001b[0;34m\u001b[0m\u001b[0;34m\u001b[0m\u001b[0m\n\u001b[0;32m----> 6\u001b[0;31m     \u001b[0mx\u001b[0m \u001b[0;34m=\u001b[0m \u001b[0mdd\u001b[0m\u001b[0;34m.\u001b[0m\u001b[0mpop\u001b[0m\u001b[0;34m(\u001b[0m\u001b[0mfeature\u001b[0m\u001b[0;34m)\u001b[0m\u001b[0;34m\u001b[0m\u001b[0;34m\u001b[0m\u001b[0m\n\u001b[0m\u001b[1;32m      7\u001b[0m     \u001b[0;32mif\u001b[0m \u001b[0;34m\"RVec\"\u001b[0m \u001b[0;32min\u001b[0m \u001b[0mstr\u001b[0m\u001b[0;34m(\u001b[0m\u001b[0mtype\u001b[0m\u001b[0;34m(\u001b[0m\u001b[0mx\u001b[0m\u001b[0;34m[\u001b[0m\u001b[0;36m0\u001b[0m\u001b[0;34m]\u001b[0m\u001b[0;34m)\u001b[0m\u001b[0;34m)\u001b[0m\u001b[0;34m:\u001b[0m\u001b[0;34m\u001b[0m\u001b[0;34m\u001b[0m\u001b[0m\n\u001b[1;32m      8\u001b[0m         \u001b[0mxx\u001b[0m \u001b[0;34m=\u001b[0m \u001b[0mnp\u001b[0m\u001b[0;34m.\u001b[0m\u001b[0mzeros\u001b[0m\u001b[0;34m(\u001b[0m\u001b[0;34m(\u001b[0m\u001b[0mX\u001b[0m\u001b[0;34m.\u001b[0m\u001b[0mshape\u001b[0m\u001b[0;34m[\u001b[0m\u001b[0;36m0\u001b[0m\u001b[0;34m]\u001b[0m\u001b[0;34m,\u001b[0m \u001b[0mdd\u001b[0m\u001b[0;34m[\u001b[0m\u001b[0;34m'Nb_part'\u001b[0m\u001b[0;34m]\u001b[0m\u001b[0;34m[\u001b[0m\u001b[0;36m0\u001b[0m\u001b[0;34m]\u001b[0m\u001b[0;34m)\u001b[0m\u001b[0;34m,\u001b[0m \u001b[0mdtype\u001b[0m\u001b[0;34m=\u001b[0m\u001b[0mnp\u001b[0m\u001b[0;34m.\u001b[0m\u001b[0mfloat32\u001b[0m\u001b[0;34m)\u001b[0m\u001b[0;34m\u001b[0m\u001b[0;34m\u001b[0m\u001b[0m\n",
      "\u001b[0;31mKeyError\u001b[0m: 'part_idpart_px'"
     ]
    }
   ],
   "metadata": {}
  },
  {
   "cell_type": "code",
   "execution_count": null,
   "source": [
    "X.shape, X[:3]"
   ],
   "outputs": [
    {
     "output_type": "execute_result",
     "data": {
      "text/plain": [
       "((100000, 19),\n",
       " array([[ 6.1572986e+00,  6.9386871e+01,  2.5683760e+03,  1.2766126e-03,\n",
       "          8.7632734e-01,  6.6536544e-03,  1.8969141e+01, -2.0403661e-01,\n",
       "          2.1176796e-01, -7.7313497e-03,  8.4844416e-01, -7.6735818e-01,\n",
       "         -8.1085950e-02, -3.1049749e-01, -4.3454680e+00,  2.7465598e+02,\n",
       "          9.2622733e-01,  4.4177794e+00,  2.7465759e+02],\n",
       "        [ 4.9013991e+00,  6.9803581e+01,  2.5986152e+03,  1.0043975e-03,\n",
       "          8.8664490e-01,  5.5965889e-01,  3.5956265e+02, -1.7428368e-01,\n",
       "         -6.1004870e-03,  1.8038417e-01,  7.2472274e-01,  9.5913321e-04,\n",
       "         -7.2568190e-01, -3.2170483e-01, -4.4327068e+00,  2.7475443e+02,\n",
       "          8.1184477e-01,  4.4327111e+00,  2.7475702e+02],\n",
       "        [ 6.4430370e+00,  6.6004524e+01,  2.3245017e+03,  1.4760067e-03,\n",
       "          7.9311764e-01,  8.0686482e-03,  2.9176425e+02, -2.6994997e-01,\n",
       "          1.8119112e-01,  8.8758856e-02,  1.1225313e+00, -1.1096694e+00,\n",
       "         -1.2861849e-02, -7.1225905e-01, -3.8858755e+00,  2.7459814e+02,\n",
       "          1.3565627e+00,  4.0452719e+00,  2.7459976e+02]], dtype=float32))"
      ]
     },
     "metadata": {},
     "execution_count": 5
    }
   ],
   "metadata": {}
  },
  {
   "cell_type": "code",
   "execution_count": null,
   "source": [],
   "outputs": [],
   "metadata": {}
  }
 ],
 "metadata": {
  "orig_nbformat": 4,
  "language_info": {
   "name": "python",
   "version": "3.8.10",
   "mimetype": "text/x-python",
   "codemirror_mode": {
    "name": "ipython",
    "version": 3
   },
   "pygments_lexer": "ipython3",
   "nbconvert_exporter": "python",
   "file_extension": ".py"
  },
  "kernelspec": {
   "name": "python3",
   "display_name": "Python 3.8.10 64-bit ('tf': venv)"
  },
  "interpreter": {
   "hash": "b7641c0c0b8bcbb41782b8c3212e741f41e23a5dbe44042ef010a6f14ba3c0ee"
  }
 },
 "nbformat": 4,
 "nbformat_minor": 2
}